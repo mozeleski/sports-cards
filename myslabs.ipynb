{
 "cells": [
  {
   "cell_type": "markdown",
   "metadata": {},
   "source": [
    "## MySlabs Scraper"
   ]
  },
  {
   "cell_type": "code",
   "execution_count": 1,
   "metadata": {},
   "outputs": [],
   "source": [
    "import requests\n",
    "import urllib\n",
    "import numpy as np\n",
    "import pandas as pd\n",
    "from scipy import stats\n",
    "from selenium import webdriver\n",
    "from bs4 import BeautifulSoup as bs"
   ]
  },
  {
   "cell_type": "code",
   "execution_count": 2,
   "metadata": {},
   "outputs": [],
   "source": [
    "pages = 1840"
   ]
  },
  {
   "cell_type": "code",
   "execution_count": 68,
   "metadata": {},
   "outputs": [],
   "source": [
    "def get_price(item):\n",
    "    text = getattr(item.find('div', {'class': 'slab-feed-label'}), 'text', None).strip()\n",
    "    text_list = str(text).split('-')\n",
    "    return text_list[0].replace(\"$\", '').replace(',', '').strip()\n",
    "\n",
    "def get_sold_date(item):\n",
    "    text = getattr(item.find('div', {'class': 'slab-feed-label'}), 'text', None).strip()\n",
    "    text_list = str(text).split('-')\n",
    "    return text_list[1].strip()"
   ]
  },
  {
   "cell_type": "code",
   "execution_count": 82,
   "metadata": {},
   "outputs": [],
   "source": [
    "class MySlabsScraper:\n",
    "    def __init__(self, pages) -> None:\n",
    "        self.pages = pages\n",
    "\n",
    "    def href_builder(self):\n",
    "        url = 'https://myslabs.com/browse/archive/?page='\n",
    "        links = []\n",
    "\n",
    "        for i in range(self.pages):\n",
    "            links.append(url + str(i + 1))\n",
    "        return links\n",
    "\n",
    "    def get_data(self):\n",
    "\n",
    "        soups = []\n",
    "        links = self.href_builder()\n",
    "\n",
    "        for link in links:\n",
    "            page = requests.get(link)\n",
    "            soup = bs(page.text, 'html.parser')\n",
    "            soups.append(soup)\n",
    "\n",
    "        return soups\n",
    "\n",
    "    def parse(self):\n",
    "\n",
    "        soups = self.get_data()\n",
    "        results = []\n",
    "        product_list = []\n",
    "\n",
    "        for soup in soups:\n",
    "            results.extend(soup.find_all('div', {'class': 'slab_item psa'}))\n",
    "\n",
    "        for item in results:\n",
    "            products = {\n",
    "                'link': 'https://myslabs.com' + item.find('a')['href'],\n",
    "                'soldprice': get_price(item),\n",
    "                'solddate': get_sold_date(item),\n",
    "            }\n",
    "            product_list.append(products)\n",
    "        return product_list\n",
    "\n",
    "    def output(self):\n",
    "        products = self.parse()\n",
    "        df = pd.DataFrame(products)\n",
    "        df['link'] = df['link'].astype(str)\n",
    "        df['soldprice'] = pd.to_numeric(df['soldprice'])\n",
    "        df['solddate'] = pd.to_datetime(df['solddate'])\n",
    "        return df"
   ]
  },
  {
   "cell_type": "code",
   "execution_count": 83,
   "metadata": {},
   "outputs": [],
   "source": [
    "slabs_test = MySlabsScraper(1)\n",
    "out = slabs_test.output()"
   ]
  }
 ],
 "metadata": {
  "kernelspec": {
   "display_name": "Python 3.9.0 64-bit",
   "language": "python",
   "name": "python3"
  },
  "language_info": {
   "codemirror_mode": {
    "name": "ipython",
    "version": 3
   },
   "file_extension": ".py",
   "mimetype": "text/x-python",
   "name": "python",
   "nbconvert_exporter": "python",
   "pygments_lexer": "ipython3",
   "version": "3.9.0"
  },
  "orig_nbformat": 4,
  "vscode": {
   "interpreter": {
    "hash": "81794d4967e6c3204c66dcd87b604927b115b27c00565d3d43f05ba2f3a2cb0d"
   }
  }
 },
 "nbformat": 4,
 "nbformat_minor": 2
}
